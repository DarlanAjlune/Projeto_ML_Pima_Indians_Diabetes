{
 "cells": [
  {
   "cell_type": "markdown",
   "metadata": {},
   "source": [
    "# Projeto C318"
   ]
  },
  {
   "cell_type": "markdown",
   "metadata": {},
   "source": [
    "O projeto tem como intuito fazer uma anásile de um dataset fornecido neste link do [Kaggle](https://www.kaggle.com/datasets/uciml/pima-indians-diabetes-database?resource=download&select=diabetes.csv).  \n",
    "No qual, se trata de um dataset que contém alguns dados médicos, em particular, de mulheres com pelo menos 21 anos e de ascendência indígena Pima.  \n",
    "Cujo o intuito é criar um modelo de ML, capaz de prever se o paciente tem ou não diabetes."
   ]
  },
  {
   "cell_type": "markdown",
   "metadata": {},
   "source": [
    "## Importação de Bibliotecas"
   ]
  },
  {
   "cell_type": "code",
   "execution_count": null,
   "metadata": {},
   "outputs": [],
   "source": [
    "import numpy as np\n",
    "import pandas as pd\n",
    "import seaborn as sns\n",
    "from sklearn import svm\n",
    "from sklearn import tree\n",
    "import matplotlib.pyplot as plt\n",
    "from sklearn import preprocessing\n",
    "from sklearn.metrics import f1_score\n",
    "from sklearn.metrics import roc_curve\n",
    "from imblearn.over_sampling import SMOTE\n",
    "from sklearn.naive_bayes import GaussianNB\n",
    "from sklearn.naive_bayes import BernoulliNB\n",
    "from sklearn.linear_model import Perceptron\n",
    "from sklearn.linear_model import SGDClassifier\n",
    "from sklearn.ensemble import AdaBoostClassifier\n",
    "from sklearn.neural_network import MLPClassifier\n",
    "from sklearn.neighbors import KNeighborsClassifier\n",
    "from sklearn.linear_model import LogisticRegression\n",
    "from sklearn.ensemble import RandomForestClassifier\n",
    "from sklearn.model_selection import cross_validate\n",
    "from sklearn.ensemble import GradientBoostingClassifier\n",
    "from sklearn.model_selection import StratifiedShuffleSplit\n",
    "from sklearn.gaussian_process import GaussianProcessClassifier\n"
   ]
  },
  {
   "cell_type": "markdown",
   "metadata": {},
   "source": [
    "## Análise dos dados"
   ]
  },
  {
   "cell_type": "code",
   "execution_count": null,
   "metadata": {},
   "outputs": [],
   "source": [
    "df = pd.read_csv('diabetes.csv')\n",
    "df.head()"
   ]
  },
  {
   "cell_type": "code",
   "execution_count": null,
   "metadata": {},
   "outputs": [],
   "source": [
    "print(f\"Este dataset contém os dados clínicos de {len(df)} pacientes\")\n",
    "print(f\"Features: {df.columns.to_list()[:-1]}\")\n",
    "print(f\"Target: {df.columns.to_list()[-1]}\")\n",
    "print(f\"Existe valores faltantes? {df.isna().any().any()}\")"
   ]
  },
  {
   "cell_type": "markdown",
   "metadata": {},
   "source": [
    "Diante dos tipos de dados apresentados, pode-se concluir que o dataset escolhido não apresenta variáveis categóricas"
   ]
  },
  {
   "cell_type": "code",
   "execution_count": null,
   "metadata": {},
   "outputs": [],
   "source": [
    "df.info()"
   ]
  },
  {
   "cell_type": "code",
   "execution_count": null,
   "metadata": {},
   "outputs": [],
   "source": [
    "df.describe()"
   ]
  },
  {
   "cell_type": "markdown",
   "metadata": {},
   "source": [
    "### Análise da Variável Target"
   ]
  },
  {
   "cell_type": "markdown",
   "metadata": {},
   "source": [
    "A variável target é qualitativa(categórica), logo estamos trabalhando com um modelo de classificação.  \n",
    "Na figura abaixo podemos analisar a quantidade de pacientes com(1) e sem(0) diabetes.  \n",
    "É possível notar que o dataset se encontra desbalanceado."
   ]
  },
  {
   "cell_type": "code",
   "execution_count": null,
   "metadata": {},
   "outputs": [],
   "source": [
    "plt.pie(df['Outcome'].value_counts().to_list(), autopct='%.02f%%')\n",
    "plt.legend(['0', '1'])\n",
    "plt.show()"
   ]
  },
  {
   "cell_type": "markdown",
   "metadata": {},
   "source": [
    "### Divisão dos Dados para Treino e Teste"
   ]
  },
  {
   "cell_type": "markdown",
   "metadata": {},
   "source": [
    "Dado o desbalanceamento dos dados, a divisão dos dados usando o método [train_test_split](https://scikit-learn.org/stable/modules/generated/sklearn.model_selection.train_test_split.html) do sklearn, iria inserir uma inconsistência nos dados. Podendo coletar mais amostras de uma população do que de outra. Logo, o método adequado é o [StratifiedShuffleSplit](https://scikit-learn.org/stable/modules/generated/sklearn.model_selection.StratifiedShuffleSplit.html)."
   ]
  },
  {
   "cell_type": "code",
   "execution_count": null,
   "metadata": {},
   "outputs": [],
   "source": [
    "split = StratifiedShuffleSplit(n_splits=1, test_size=0.2, random_state=42)\n",
    "for train_index, test_index in split.split(df, df.Outcome):\n",
    "    strat_train_set = df.loc[train_index]\n",
    "    strat_test_set = df.loc[test_index]"
   ]
  },
  {
   "cell_type": "markdown",
   "metadata": {},
   "source": [
    "### Análise das Features"
   ]
  },
  {
   "cell_type": "markdown",
   "metadata": {},
   "source": [
    "#### Pregnancies"
   ]
  },
  {
   "cell_type": "markdown",
   "metadata": {},
   "source": [
    "Representa o número de vezes que aquela paciente ficou grávida.  \n",
    "Como podemos analisar abaixo, este valor varia entre 0 e 17.  \n",
    "Neste gráfico podemos analisar a proporção de pacientes com e sem diabetes, levando em consideração o número de gestações.  \n",
    "Uma curiosidade é que cerca de 140 pacientes, tiveram apenas 1 filho(a). E aproximadamente 30 delas apresentaram diabetes."
   ]
  },
  {
   "cell_type": "code",
   "execution_count": null,
   "metadata": {},
   "outputs": [],
   "source": [
    "aux = strat_train_set[['Pregnancies','Outcome']].value_counts().sort_index().reset_index()\n",
    "aux.columns = ['N° Gestacao/Pessoa', 'Tem Diabetes', 'N° de Pacientes']\n",
    "plt.figure(figsize=(8, 6))\n",
    "sns.barplot(aux, x='N° Gestacao/Pessoa', y='N° de Pacientes', hue='Tem Diabetes')\n",
    "plt.show()"
   ]
  },
  {
   "cell_type": "code",
   "execution_count": null,
   "metadata": {},
   "outputs": [],
   "source": [
    "ax = sns.displot(strat_train_set, x=\"Pregnancies\", hue='Outcome')\n",
    "plt.xlabel(\"Pregnancies\")\n",
    "plt.ylabel('N° de Pacientes')\n",
    "plt.show()"
   ]
  },
  {
   "cell_type": "markdown",
   "metadata": {},
   "source": [
    "#### Glucose"
   ]
  },
  {
   "cell_type": "markdown",
   "metadata": {},
   "source": [
    "Esta feature representa a \"Concentração de glicose plasmática a 2 horas em um teste oral de tolerância à glicose\".  \n",
    "Neste teste é administrado uma quantidade X de glicose no paciente e após 2 horas é medido o valor de glicemia.  \n",
    "Valores entre 140 e 200 mg/dL é considerado pré-diabetes e acima de 200mg/dL confirma o diagnóstico de diabetes.  \n",
    "No gráfico abaixo, podemos observar tal feito, o número de casos sem diabetes com valores acima de 150mg/dL diminui considerávelmente."
   ]
  },
  {
   "cell_type": "code",
   "execution_count": null,
   "metadata": {},
   "outputs": [],
   "source": [
    "ax = sns.displot(strat_train_set, x=\"Glucose\", hue='Outcome')\n",
    "plt.xlabel(\"Glicose\")\n",
    "plt.ylabel('N° de Pacientes')\n",
    "plt.show()"
   ]
  },
  {
   "cell_type": "markdown",
   "metadata": {},
   "source": [
    "#### BloodPressure"
   ]
  },
  {
   "cell_type": "markdown",
   "metadata": {},
   "source": [
    "Pressão arterial diastólica (mmHg)"
   ]
  },
  {
   "cell_type": "code",
   "execution_count": null,
   "metadata": {},
   "outputs": [],
   "source": [
    "sns.displot(strat_train_set, x=\"BloodPressure\", hue='Outcome')\n",
    "plt.xlabel(\"Pressão arterial diastólica (mmHg)\")\n",
    "plt.ylabel('N° de Pacientes')\n",
    "plt.show()"
   ]
  },
  {
   "cell_type": "markdown",
   "metadata": {},
   "source": [
    "#### SkinThickness"
   ]
  },
  {
   "cell_type": "markdown",
   "metadata": {},
   "source": [
    "Espessura da dobra cutânea do tríceps (mm)"
   ]
  },
  {
   "cell_type": "code",
   "execution_count": null,
   "metadata": {},
   "outputs": [],
   "source": [
    "sns.displot(strat_train_set, x=\"SkinThickness\", hue='Outcome')\n",
    "plt.xlabel(\"Espessura da pele (mm)\")\n",
    "plt.ylabel('N° de Pacientes')\n",
    "plt.show()"
   ]
  },
  {
   "cell_type": "markdown",
   "metadata": {},
   "source": [
    "#### Insulin"
   ]
  },
  {
   "cell_type": "markdown",
   "metadata": {},
   "source": [
    "Representa a \"Insulina sérica de 2 horas (mu U/ml)\"."
   ]
  },
  {
   "cell_type": "code",
   "execution_count": null,
   "metadata": {},
   "outputs": [],
   "source": [
    "sns.displot(strat_train_set, x=\"Insulin\", hue='Outcome')\n",
    "plt.xlabel(\"Insulina (mu U/ml)\")\n",
    "plt.ylabel('N° de Pacientes')\n",
    "plt.show()"
   ]
  },
  {
   "cell_type": "markdown",
   "metadata": {},
   "source": [
    "#### BMI"
   ]
  },
  {
   "cell_type": "markdown",
   "metadata": {},
   "source": [
    "Índice de massa corporal (peso em kg/(altura em m)^2)"
   ]
  },
  {
   "cell_type": "code",
   "execution_count": null,
   "metadata": {},
   "outputs": [],
   "source": [
    "sns.displot(strat_train_set, x=\"BMI\", hue='Outcome')\n",
    "plt.xlabel(\"Índice de massa corporal\")\n",
    "plt.ylabel('N° de Pacientes')\n",
    "plt.show()"
   ]
  },
  {
   "cell_type": "markdown",
   "metadata": {},
   "source": [
    "#### DiabetesPedigreeFunction"
   ]
  },
  {
   "cell_type": "markdown",
   "metadata": {},
   "source": [
    "Função hereditária do diabetes"
   ]
  },
  {
   "cell_type": "code",
   "execution_count": null,
   "metadata": {},
   "outputs": [],
   "source": [
    "sns.displot(strat_train_set, x=\"DiabetesPedigreeFunction\", hue='Outcome')\n",
    "plt.xlabel(\"Relação Hereditária\")\n",
    "plt.ylabel('N° de Pacientes')\n",
    "plt.show()"
   ]
  },
  {
   "cell_type": "markdown",
   "metadata": {},
   "source": [
    "#### Age"
   ]
  },
  {
   "cell_type": "markdown",
   "metadata": {},
   "source": [
    "Idade dos pacientes."
   ]
  },
  {
   "cell_type": "code",
   "execution_count": null,
   "metadata": {},
   "outputs": [],
   "source": [
    "sns.displot(strat_train_set, x=\"Age\", hue='Outcome')\n",
    "plt.xlabel(\"Idade\")\n",
    "plt.ylabel('N° de Pacientes')\n",
    "plt.show()"
   ]
  },
  {
   "cell_type": "markdown",
   "metadata": {},
   "source": [
    "### Matriz de Correlação"
   ]
  },
  {
   "cell_type": "code",
   "execution_count": null,
   "metadata": {},
   "outputs": [],
   "source": [
    "plt.figure(figsize=(8, 6))\n",
    "print(f\"Matriz de correlação das variáveis:\\n{sns.heatmap(strat_train_set.corr(), annot=True)}\")\n",
    "plt.show()"
   ]
  },
  {
   "cell_type": "markdown",
   "metadata": {},
   "source": [
    "### Feature Importance dos Dados Desbalanceados"
   ]
  },
  {
   "cell_type": "code",
   "execution_count": null,
   "metadata": {},
   "outputs": [],
   "source": [
    "clf = RandomForestClassifier()\n",
    "clf = clf.fit(strat_train_set.drop('Outcome', axis=1).values, strat_train_set.Outcome.values)\n",
    "feature_importance = pd.Series(clf.feature_importances_, index=list(strat_train_set.drop('Outcome', axis=1).columns))\n",
    "feature_importance = feature_importance.sort_values()\n",
    "feature_importance.plot(kind='barh')"
   ]
  },
  {
   "cell_type": "markdown",
   "metadata": {},
   "source": [
    "### Modelos"
   ]
  },
  {
   "cell_type": "code",
   "execution_count": null,
   "metadata": {},
   "outputs": [],
   "source": [
    "models = {\n",
    "    'DecisionTreeClassifier': tree.DecisionTreeClassifier(), \n",
    "    'SGDClassifier': SGDClassifier(), \n",
    "    'RandomForestClassifier': RandomForestClassifier(), \n",
    "    'LogisticRegression': LogisticRegression(),\n",
    "    'SVC': svm.SVC(),\n",
    "    'KNeighborsClassifier': KNeighborsClassifier(),\n",
    "    'GaussianNB': GaussianNB(),\n",
    "    'AdaBoostClassifier': AdaBoostClassifier(),\n",
    "    'MLPClassifier': MLPClassifier(),\n",
    "    'Perceptron': Perceptron(),\n",
    "    'GaussianProcessClassifier': GaussianProcessClassifier(),\n",
    "    'BernoulliNB': BernoulliNB(),\n",
    "    'GradientBoostingClassifier': GradientBoostingClassifier()\n",
    "    }   "
   ]
  },
  {
   "cell_type": "markdown",
   "metadata": {},
   "source": [
    "### Cross-validation sem Balanceamento dos Dados"
   ]
  },
  {
   "cell_type": "code",
   "execution_count": null,
   "metadata": {},
   "outputs": [],
   "source": [
    "count = 0\n",
    "results = f'Modelo;Accuracy_{count};Mean Accuracy_{count};STD Accuracy_{count};F1_{count};Mean F1_{count};STD F1_{count};Precision_{count};Mean Precision_{count};STD Precision_{count};Recall_{count};Mean Recall_{count};STD Recall_{count}\\n'\n",
    "count += 1\n",
    "for name, clf in models.items():\n",
    "    X = strat_train_set.drop('Outcome', axis=1).values\n",
    "    y = strat_train_set.Outcome.copy().values\n",
    "    if name == 'LogisticRegression':\n",
    "        X = preprocessing.StandardScaler().fit(X).transform(X)\n",
    "\n",
    "    clf = clf.fit(X, y)\n",
    "    cross = cross_validate(clf, X, y, scoring=[\"accuracy\", \"f1\", \"precision\", \"recall\"], cv=3)\n",
    "    results += f\"{name};{list(cross['test_accuracy'])};{cross['test_accuracy'].mean()};{cross['test_accuracy'].std()}\"\n",
    "    results +=       f\";{list(cross['test_f1'])};{cross['test_f1'].mean()};{cross['test_f1'].std()}\"\n",
    "    results +=       f\";{list(cross['test_precision'])};{cross['test_precision'].mean()};{cross['test_precision'].std()}\"\n",
    "    results +=       f\";{list(cross['test_recall'])};{cross['test_recall'].mean()};{cross['test_recall'].std()}\\n\"\n",
    "\n",
    "with open('results.csv', 'w', encoding='utf-8') as w:\n",
    "    w.write(results)"
   ]
  },
  {
   "cell_type": "code",
   "execution_count": null,
   "metadata": {},
   "outputs": [],
   "source": [
    "results = pd.read_csv('results.csv', delimiter=';')\n",
    "results[['Modelo', 'Mean Accuracy_0', 'Mean F1_0', 'Mean Precision_0', 'Mean Recall_0']].plot(kind='bar', x='Modelo', figsize=(15,10), rot=50)"
   ]
  },
  {
   "cell_type": "markdown",
   "metadata": {},
   "source": [
    "### Cross-validation Com Balanceamento dos Dados"
   ]
  },
  {
   "cell_type": "code",
   "execution_count": null,
   "metadata": {},
   "outputs": [],
   "source": [
    "sm = SMOTE(random_state=42)\n",
    "X_smote, y_smote = sm.fit_resample(X, y)"
   ]
  },
  {
   "cell_type": "code",
   "execution_count": null,
   "metadata": {},
   "outputs": [],
   "source": [
    "results = f'Modelo;Accuracy_{count};Mean Accuracy_{count};STD Accuracy_{count};F1_{count};Mean F1_{count};STD F1_{count};Precision_{count};Mean Precision_{count};STD Precision_{count};Recall_{count};Mean Recall_{count};STD Recall_{count}\\n'\n",
    "count += 1\n",
    "for name, clf in models.items():\n",
    "    X = X_smote\n",
    "    y = y_smote\n",
    "    if name == 'LogisticRegression':\n",
    "        X = preprocessing.StandardScaler().fit(X).transform(X)\n",
    "\n",
    "    clf = clf.fit(X, y)\n",
    "    cross = cross_validate(clf, X, y, scoring=[\"accuracy\", \"f1\", \"precision\", \"recall\"], cv=3)\n",
    "    results += f\"{name};{list(cross['test_accuracy'])};{cross['test_accuracy'].mean()};{cross['test_accuracy'].std()}\"\n",
    "    results +=       f\";{list(cross['test_f1'])};{cross['test_f1'].mean()};{cross['test_f1'].std()}\"\n",
    "    results +=       f\";{list(cross['test_precision'])};{cross['test_precision'].mean()};{cross['test_precision'].std()}\"\n",
    "    results +=       f\";{list(cross['test_recall'])};{cross['test_recall'].mean()};{cross['test_recall'].std()}\\n\"\n",
    "\n",
    "with open('results_SMOTE.csv', 'w', encoding='utf-8') as w:\n",
    "    w.write(results)"
   ]
  },
  {
   "cell_type": "code",
   "execution_count": null,
   "metadata": {},
   "outputs": [],
   "source": [
    "results = pd.read_csv('results.csv', delimiter=';')\n",
    "results_SMOTE = pd.read_csv('results_SMOTE.csv', delimiter=';')\n",
    "r = pd.merge(results, results_SMOTE, how='left', on='Modelo')\n",
    "r[['Modelo', 'Mean F1_0', 'Mean F1_1']].plot(kind='bar', x='Modelo', figsize=(15,10), rot=50)"
   ]
  },
  {
   "cell_type": "markdown",
   "metadata": {},
   "source": [
    "Como pode ser observado, todos os modelos melhoram após balancear os dados."
   ]
  },
  {
   "cell_type": "code",
   "execution_count": null,
   "metadata": {},
   "outputs": [],
   "source": [
    "X_smote_stand = preprocessing.StandardScaler().fit(X_smote).transform(X_smote)"
   ]
  },
  {
   "cell_type": "code",
   "execution_count": null,
   "metadata": {},
   "outputs": [],
   "source": [
    "results = f'Modelo;Accuracy_{count};Mean Accuracy_{count};STD Accuracy_{count};F1_{count};Mean F1_{count};STD F1_{count};Precision_{count};Mean Precision_{count};STD Precision_{count};Recall_{count};Mean Recall_{count};STD Recall_{count}\\n'\n",
    "count += 1\n",
    "for name, clf in models.items():\n",
    "    clf = clf.fit(X_smote_stand, y_smote)\n",
    "    cross = cross_validate(clf, X_smote_stand, y_smote, scoring=[\"accuracy\", \"f1\", \"precision\", \"recall\", \"roc_auc\"], cv=3)\n",
    "    results += f\"{name};{list(cross['test_accuracy'])};{cross['test_accuracy'].mean()};{cross['test_accuracy'].std()}\"\n",
    "    results +=       f\";{list(cross['test_f1'])};{cross['test_f1'].mean()};{cross['test_f1'].std()}\"\n",
    "    results +=       f\";{list(cross['test_precision'])};{cross['test_precision'].mean()};{cross['test_precision'].std()}\"\n",
    "    results +=       f\";{list(cross['test_recall'])};{cross['test_recall'].mean()};{cross['test_recall'].std()}\\n\"\n",
    "\n",
    "with open('results_SMOTE_STAND.csv', 'w', encoding='utf-8') as w:\n",
    "    w.write(results)"
   ]
  },
  {
   "cell_type": "code",
   "execution_count": null,
   "metadata": {},
   "outputs": [],
   "source": [
    "results = pd.read_csv('results.csv', delimiter=';')\n",
    "results_SMOTE = pd.read_csv('results_SMOTE.csv', delimiter=';')\n",
    "results_SMOTE_STAND = pd.read_csv('results_SMOTE_STAND.csv', delimiter=';')\n",
    "r = pd.merge(results, results_SMOTE, how='left', on='Modelo')\n",
    "r = pd.merge(r, results_SMOTE_STAND, how='left', on='Modelo')\n",
    "r[['Modelo', 'Mean F1_0', 'Mean F1_1', 'Mean F1_2']].plot(kind='bar', x='Modelo', figsize=(15,10), rot=50)"
   ]
  },
  {
   "cell_type": "markdown",
   "metadata": {},
   "source": [
    "Como podemos analisar acima, a maioria dos modelos apresentaram uma melhora após aplicar o [Standard Scaler](https://scikit-learn.org/stable/modules/generated/sklearn.preprocessing.StandardScaler.html#sklearn.preprocessing.StandardScaler)"
   ]
  },
  {
   "cell_type": "markdown",
   "metadata": {},
   "source": [
    "### Predição do Modelo"
   ]
  },
  {
   "cell_type": "code",
   "execution_count": null,
   "metadata": {},
   "outputs": [],
   "source": [
    "models = {\n",
    "    'RandomForestClassifier': RandomForestClassifier(), \n",
    "    'SVC': svm.SVC(),\n",
    "    'GaussianProcessClassifier': GaussianProcessClassifier(),\n",
    "}   "
   ]
  },
  {
   "cell_type": "code",
   "execution_count": null,
   "metadata": {},
   "outputs": [],
   "source": [
    "X_test = strat_test_set.drop('Outcome', axis=1).values\n",
    "y_test = strat_test_set.Outcome.copy().values"
   ]
  },
  {
   "cell_type": "code",
   "execution_count": null,
   "metadata": {},
   "outputs": [],
   "source": [
    "X_test = preprocessing.StandardScaler().fit(X_test).transform(X_test)"
   ]
  },
  {
   "cell_type": "code",
   "execution_count": null,
   "metadata": {},
   "outputs": [],
   "source": [
    "sm = SMOTE(random_state=42)\n",
    "X_test_smote, y_test_smote = sm.fit_resample(X_test, y_test)\n",
    "print(X_smote.shape)"
   ]
  },
  {
   "cell_type": "code",
   "execution_count": null,
   "metadata": {},
   "outputs": [],
   "source": [
    "results = f'Modelo;F1\\n'\n",
    "count += 1\n",
    "for name, clf in models.items():\n",
    "    clf = clf.fit(X_smote_stand, y_smote)\n",
    "    y_pred = clf.predict(X_test_smote)\n",
    "    results += f'{name};{f1_score(y_true=y_test_smote, y_pred=y_pred)}\\n'\n",
    "\n",
    "with open('results_predict.csv', 'w', encoding='utf-8') as w:\n",
    "    w.write(results)"
   ]
  },
  {
   "cell_type": "code",
   "execution_count": null,
   "metadata": {},
   "outputs": [],
   "source": [
    "results = pd.read_csv('results_predict.csv', delimiter=';')\n",
    "results.plot(kind='bar', x='Modelo', figsize=(8,8), rot=0)"
   ]
  }
 ],
 "metadata": {
  "kernelspec": {
   "display_name": "Python 3.10.7 64-bit (microsoft store)",
   "language": "python",
   "name": "python3"
  },
  "language_info": {
   "codemirror_mode": {
    "name": "ipython",
    "version": 3
   },
   "file_extension": ".py",
   "mimetype": "text/x-python",
   "name": "python",
   "nbconvert_exporter": "python",
   "pygments_lexer": "ipython3",
   "version": "3.10.8"
  },
  "orig_nbformat": 4,
  "vscode": {
   "interpreter": {
    "hash": "2faafb8d1e910bca853447f3ef31dededa675702458a3c28c8519a84b0858d79"
   }
  }
 },
 "nbformat": 4,
 "nbformat_minor": 2
}
